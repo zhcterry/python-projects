{
 "cells": [
  {
   "cell_type": "code",
   "execution_count": 1,
   "metadata": {},
   "outputs": [],
   "source": [
    "from tqdm import tqdm\n",
    "from selenium import webdriver\n",
    "from selenium.webdriver.common.by import By\n",
    "from selenium.webdriver.support.ui import WebDriverWait\n",
    "from selenium.webdriver.support import expected_conditions as EC\n",
    "import numpy as np\n",
    "import requests\n",
    "\n",
    "path = \"chromedriver.exe\""
   ]
  },
  {
   "cell_type": "code",
   "execution_count": 2,
   "metadata": {},
   "outputs": [],
   "source": [
    "def siteRip(url, number):\n",
    "    driver = webdriver.Chrome(executable_path=path)\n",
    "    driver.get(url)\n",
    "    loadMore()\n",
    "    imgs = driver.find_elements_by_xpath(\"//img[@class = 'image-placeholder']\")\n",
    "    for img in imgs:\n",
    "        source = img.get_attribute(\"src\")\n",
    "        downloadImage(source, number)\n",
    "        number += 1\n",
    "    return(number)\n",
    "\n",
    "# Press the load more button until there isn't anymore\n",
    "def loadMore():\n",
    "    running = True\n",
    "    while (running):\n",
    "        try:\n",
    "            load_more = WebDriverWait(driver, 20).until(\n",
    "                EC.presence_of_element_located((By.XPATH, \"//button[@class='loadMore']\"))\n",
    "            )\n",
    "            load_more.click()\n",
    "        except Exception as e:\n",
    "            running = False\n",
    "\n",
    "# Download image, output in jpg files in output folder\n",
    "def downloadImage(url, index):\n",
    "    filename = \"./output/pic{}.jpg\".format(index)\n",
    "    with open(filename, 'wb') as handle:\n",
    "        response = requests.get(url)\n",
    "\n",
    "        if not response.ok:\n",
    "            input(\"Something went wrong, press ENTER to exit\")\n",
    "            sys.exit()\n",
    "\n",
    "        for img in response.iter_content(1024):\n",
    "            if not img:\n",
    "                break\n",
    "            handle.write(img)"
   ]
  },
  {
   "cell_type": "code",
   "execution_count": null,
   "metadata": {},
   "outputs": [],
   "source": [
    "num = int(input(\"Number of URLS: \"))\n",
    "urls = []"
   ]
  },
  {
   "cell_type": "code",
   "execution_count": 103,
   "metadata": {},
   "outputs": [
    {
     "data": {
      "text/plain": [
       "'https://i.imgur.com/dhL4YR6_d.webp?maxwidth=760&fidelity=grand'"
      ]
     },
     "execution_count": 103,
     "metadata": {},
     "output_type": "execute_result"
    }
   ],
   "source": [
    "for i in range(num):\n",
    "    url = input(\"url no.{}\".format(i+1))\n",
    "    urls.append(url)"
   ]
  },
  {
   "cell_type": "code",
   "execution_count": null,
   "metadata": {},
   "outputs": [],
   "source": [
    "number = 1\n",
    "for url in urls:\n",
    "    number = siteRip(url, number)"
   ]
  }
 ],
 "metadata": {
  "kernelspec": {
   "display_name": "Python 3",
   "language": "python",
   "name": "python3"
  },
  "language_info": {
   "codemirror_mode": {
    "name": "ipython",
    "version": 3
   },
   "file_extension": ".py",
   "mimetype": "text/x-python",
   "name": "python",
   "nbconvert_exporter": "python",
   "pygments_lexer": "ipython3",
   "version": "3.8.3"
  }
 },
 "nbformat": 4,
 "nbformat_minor": 4
}
